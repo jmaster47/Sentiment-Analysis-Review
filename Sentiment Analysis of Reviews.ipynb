{
 "cells": [
  {
   "cell_type": "markdown",
   "source": [
    "# Jadon Oliver\n",
    "## 4/23/2024\n",
    "### Sentiment Analysis of Reviews"
   ],
   "metadata": {
    "collapsed": false
   },
   "id": "11fc9d07cfe7a3df"
  },
  {
   "cell_type": "markdown",
   "source": [
    "## Question: How good is the Chicken Sandwich Scene in Ann Arbor?\n",
    "\n",
    "### By looking at reviews for chicken sandwiches in Ann Arbor on Yelp, using sentiment analysis, we can see if generally people have a positive or negative opinion on the chicken sandwiches in Ann Arbor, Michigan."
   ],
   "metadata": {
    "collapsed": false
   },
   "id": "2456858198bc0de4"
  },
  {
   "cell_type": "markdown",
   "source": [
    "### Import code and yelp api import code"
   ],
   "metadata": {
    "collapsed": false
   },
   "id": "92603adef4950084"
  },
  {
   "cell_type": "code",
   "execution_count": null,
   "id": "initial_id",
   "metadata": {},
   "outputs": [],
   "source": [
    "import requests\n",
    "\n",
    "import yelpkeys # file where client_id and api_key is defined with user's private app information\n",
    "import nltk\n",
    "from textblob import TextBlob\n",
    "from textblob.sentiments import NaiveBayesAnalyzer\n",
    "from wordcloud import WordCloud\n",
    "import matplotlib.pyplot as plt\n",
    "from collections import Counter"
   ]
  },
  {
   "cell_type": "code",
   "execution_count": null,
   "id": "560eb5809d26a151",
   "metadata": {},
   "outputs": [],
   "source": [
    "APIKEY = yelpkeys.api_key\n",
    "headers = {'Authorization': 'Bearer %s' % yelpkeys.api_key,}"
   ]
  },
  {
   "cell_type": "markdown",
   "source": [
    "### Yelp Fusion API code"
   ],
   "metadata": {
    "collapsed": false
   },
   "id": "c60142c97f2f6e11"
  },
  {
   "cell_type": "code",
   "execution_count": null,
   "id": "5f996f4d4b49ca50",
   "metadata": {},
   "outputs": [],
   "source": [
    "\"\"\"\n",
    "Yelp Fusion API code sample.\n",
    "This program demonstrates the capability of the Yelp Fusion API\n",
    "by using the Search API to query for businesses by a search term and location,\n",
    "and the Business API to query additional information about the top result\n",
    "from the search query.\n",
    "Please refer to https://docs.developer.yelp.com/docs/get-started for the API\n",
    "documentation.\n",
    "This program requires the Python requests library, which you can install via:\n",
    "`pip install -r requirements.txt`.\n",
    "Sample usage of the program:\n",
    "`python sample.py --term=\"bars\" --location=\"San Francisco, CA\"`\n",
    "\"\"\"\n",
    "from __future__ import print_function\n",
    "\n",
    "import argparse\n",
    "import json\n",
    "import pprint\n",
    "import requests\n",
    "import sys\n",
    "import urllib\n",
    "\n",
    "\n",
    "# This client code can run on Python 2.x or 3.x.  Your imports can be\n",
    "# simpler if you only need one of those.\n",
    "try:\n",
    "    # For Python 3.0 and later\n",
    "    from urllib.error import HTTPError\n",
    "    from urllib.parse import quote\n",
    "    from urllib.parse import urlencode\n",
    "except ImportError:\n",
    "    # Fall back to Python 2's urllib2 and urllib\n",
    "    from urllib import HTTPError\n",
    "    from urllib import quote\n",
    "    from urllib import urlencode\n",
    "\n",
    "\n",
    "# Yelp Fusion no longer uses OAuth as of December 7, 2017.\n",
    "# You no longer need to provide Client ID to fetch Data\n",
    "# It now uses private keys to authenticate requests (API Key)\n",
    "# You can find it on\n",
    "# https://www.yelp.com/developers/v3/manage_app\n",
    "API_KEY= yelpkeys.api_key\n",
    "\n",
    "\n",
    "# API constants, you shouldn't have to change these.\n",
    "API_HOST = 'https://api.yelp.com'\n",
    "SEARCH_PATH = '/v3/businesses/search'\n",
    "BUSINESS_PATH = '/v3/businesses/'  # Business ID will come after slash.\n",
    "\n",
    "\n",
    "# Defaults for our simple example.\n",
    "DEFAULT_TERM = 'Chicken Sandwich'\n",
    "DEFAULT_LOCATION = 'Ann Arbor, MI'\n",
    "SEARCH_LIMIT = 20\n",
    "\n",
    "\n",
    "def request(host, path, api_key, url_params=None):\n",
    "    \"\"\"Given your API_KEY, send a GET request to the API.\n",
    "    Args:\n",
    "        host (str): The domain host of the API.\n",
    "        path (str): The path of the API after the domain.\n",
    "        API_KEY (str): Your API Key.\n",
    "        url_params (dict): An optional set of query parameters in the request.\n",
    "    Returns:\n",
    "        dict: The JSON response from the request.\n",
    "    Raises:\n",
    "        HTTPError: An error occurs from the HTTP request.\n",
    "    \"\"\"\n",
    "    url_params = url_params or {}\n",
    "    url = '{0}{1}'.format(host, quote(path.encode('utf8')))\n",
    "    headers = {\n",
    "        'Authorization': 'Bearer %s' % api_key,\n",
    "    }\n",
    "\n",
    "    print(u'Querying {0} ...'.format(url))\n",
    "\n",
    "    response = requests.request('GET', url, headers=headers, params=url_params)\n",
    "\n",
    "    return response.json()\n",
    "\n",
    "\n",
    "def search(api_key, term, location):\n",
    "    \"\"\"Query the Search API by a search term and location.\n",
    "    Args:\n",
    "        term (str): The search term passed to the API.\n",
    "        location (str): The search location passed to the API.\n",
    "    Returns:\n",
    "        dict: The JSON response from the request.\n",
    "    \"\"\"\n",
    "\n",
    "    url_params = {\n",
    "        'term': term.replace(' ', '+'),\n",
    "        'location': location.replace(' ', '+'),\n",
    "        'limit': SEARCH_LIMIT\n",
    "    }\n",
    "    return request(API_HOST, SEARCH_PATH, api_key, url_params=url_params)\n",
    "\n",
    "\n",
    "def get_business(api_key, business_id):\n",
    "    \"\"\"Query the Business API by a business ID.\n",
    "    Args:\n",
    "        business_id (str): The ID of the business to query.\n",
    "    Returns:\n",
    "        dict: The JSON response from the request.\n",
    "    \"\"\"\n",
    "    business_path = BUSINESS_PATH + business_id\n",
    "\n",
    "    return request(API_HOST, business_path, api_key)\n",
    "\n",
    "\n",
    "def query_api(term, location):\n",
    "    \"\"\"Queries the API by the input values from the user.\n",
    "    Args:\n",
    "        term (str): The search term to query.\n",
    "        location (str): The location of the business to query.\n",
    "    \"\"\"\n",
    "    response = search(API_KEY, term, location)\n",
    "\n",
    "    businesses = response.get('businesses')\n",
    "\n",
    "    if not businesses:\n",
    "        print(u'No businesses for {0} in {1} found.'.format(term, location))\n",
    "        return\n",
    "\n",
    "    business_id = businesses[0]['id']\n",
    "\n",
    "    print(u'{0} businesses found, querying business info ' \\\n",
    "        'for the top result \"{1}\" ...'.format(\n",
    "            len(businesses), business_id))\n",
    "    response = get_business(API_KEY, business_id)\n",
    "\n",
    "    print(u'Result for business \"{0}\" found:'.format(business_id))\n",
    "    pprint.pprint(response, indent=2)"
   ]
  },
  {
   "cell_type": "markdown",
   "source": [
    "### gets response from website with the wanted information"
   ],
   "metadata": {
    "collapsed": false
   },
   "id": "d617cf3517b084f4"
  },
  {
   "cell_type": "code",
   "execution_count": null,
   "id": "de287ee29bc303e5",
   "metadata": {},
   "outputs": [],
   "source": [
    "response = search(API_KEY,DEFAULT_TERM, 'Ann Arbor, MI')"
   ]
  },
  {
   "cell_type": "markdown",
   "source": [
    "### prints response"
   ],
   "metadata": {
    "collapsed": false
   },
   "id": "5df1be22f3408ea8"
  },
  {
   "cell_type": "code",
   "execution_count": null,
   "id": "3a309970d2e8c211",
   "metadata": {},
   "outputs": [],
   "source": [
    "response"
   ]
  },
  {
   "cell_type": "markdown",
   "source": [
    "### Goes through all of the reviews from the response and provides business name, rating, review count, and 3(the maximum) reviews as well as the sentiment analysis through textblob on said review."
   ],
   "metadata": {
    "collapsed": false
   },
   "id": "6e83b391ec41ce6d"
  },
  {
   "cell_type": "code",
   "execution_count": null,
   "id": "81403449265279a7",
   "metadata": {},
   "outputs": [],
   "source": [
    "for business in response['businesses']:\n",
    "    print('Business Name: ' + business['name'])\n",
    "    print('Rating: ' + str(business['rating']))\n",
    "    print('Review Count: ' + str(business['review_count']))\n",
    "    print('Reviews: ')\n",
    "    BUS_REVIEW='/v3/businesses/{}/reviews'.format(business['id'])\n",
    "    #print('https://api.yelp.com/v3/businesses/{}/reviews?limit=20&sort_by=yelp_sort'.format(business['id']))\n",
    "    reviews = request(API_HOST,BUS_REVIEW, API_KEY)\n",
    "    for review in reviews['reviews']:\n",
    "        print(' - ' + review['text'])\n",
    "        # Perform sentiment analysis on the review using TextBlob\n",
    "        blob = TextBlob(review['text'])\n",
    "        sentiment = blob.sentiment.polarity\n",
    "        if sentiment > 0:\n",
    "            print('    Sentiment: Positive')\n",
    "        elif sentiment < 0:\n",
    "            print('    Sentiment: Negative')\n",
    "        else:\n",
    "            print('    Sentiment: Neutral')\n",
    "        print('\\n================\\n\\n\\n')"
   ]
  },
  {
   "cell_type": "markdown",
   "source": [],
   "metadata": {
    "collapsed": false
   },
   "id": "6cca0d5e78f3c028"
  },
  {
   "cell_type": "markdown",
   "source": [
    "### downloads the stop words and sets them to variab"
   ],
   "metadata": {
    "collapsed": false
   },
   "id": "be6bf234ce8dc9c4"
  },
  {
   "cell_type": "code",
   "execution_count": null,
   "id": "b315266987447550",
   "metadata": {},
   "outputs": [],
   "source": [
    "# Download NLTK resources\n",
    "nltk.download('stopwords')"
   ]
  },
  {
   "cell_type": "markdown",
   "source": [
    "### sets english stopwords"
   ],
   "metadata": {
    "collapsed": false
   },
   "id": "8a1ca5853d94b920"
  },
  {
   "cell_type": "code",
   "execution_count": null,
   "id": "3aa8b6ffe3a41a21",
   "metadata": {},
   "outputs": [],
   "source": [
    "#sets english stopwords\n",
    "from nltk.corpus import stopwords\n",
    "\n",
    "stops = set(stopwords.words('english'))\n",
    "stops"
   ]
  },
  {
   "cell_type": "markdown",
   "source": [
    "### Goes through each review and does textblob and Naivebeys"
   ],
   "metadata": {
    "collapsed": false
   },
   "id": "5e23b0411724afe5"
  },
  {
   "cell_type": "code",
   "execution_count": null,
   "id": "da77f6d0d35f1942",
   "metadata": {},
   "outputs": [],
   "source": [
    "# Perform sentiment analysis with TextBlob and NaiveBayesAnalyzer\n",
    "positive_textblob, negative_textblob, neutral_textblob = 0, 0, 0\n",
    "positive_naive_bayes, negative_naive_bayes, neutral_naive_bayes = 0, 0, 0\n",
    "\n",
    "wordsc = []\n",
    "# Loop through each business in the response\n",
    "for business in response['businesses']:\n",
    "    reviews = request(API_HOST, '/v3/businesses/{}/reviews'.format(business['id']), API_KEY)\n",
    "    for review in reviews['reviews']:\n",
    "        # Perform stopword removal\n",
    "        processed_review = [word for word in TextBlob(review['text']).words if word.lower() not in stops]\n",
    "        wordsc.append(' '.join(processed_review))\n",
    "        # Sentiment analysis with TextBlob\n",
    "        sentiment_tb = TextBlob(' '.join(processed_review)).sentiment.polarity\n",
    "        if sentiment_tb > 0:\n",
    "            positive_textblob += 1\n",
    "        elif sentiment_tb < 0:\n",
    "            negative_textblob += 1\n",
    "        else:\n",
    "            neutral_textblob += 1\n",
    "        \n",
    "        # Sentiment analysis with NaiveBayesAnalyzer\n",
    "        sentiment_nb = TextBlob(' '.join(processed_review), analyzer=NaiveBayesAnalyzer()).sentiment.classification\n",
    "        if sentiment_nb == 'pos':\n",
    "            positive_naive_bayes += 1\n",
    "        elif sentiment_nb == 'neg':\n",
    "            negative_naive_bayes += 1\n",
    "        else:\n",
    "            neutral_naive_bayes += 1\n",
    "            \n",
    "print (positive_textblob)"
   ]
  },
  {
   "cell_type": "code",
   "execution_count": null,
   "outputs": [],
   "source": [
    "print (positive_textblob)\n",
    "print (negative_textblob)\n",
    "print (neutral_textblob)\n",
    "print (positive_naive_bayes)\n",
    "print (negative_naive_bayes)\n",
    "print (neutral_naive_bayes)"
   ],
   "metadata": {
    "collapsed": false
   },
   "id": "19cd40066c658fee"
  },
  {
   "cell_type": "markdown",
   "source": [
    "### Paint TextBlob Donut chart"
   ],
   "metadata": {
    "collapsed": false
   },
   "id": "fa17b167a9fb6b0a"
  },
  {
   "cell_type": "code",
   "execution_count": null,
   "id": "6fb5043ce5feb53",
   "metadata": {},
   "outputs": [],
   "source": [
    "# Plot donut chart for TextBlob sentiment analysis\n",
    "labels = list([\"positive\", \"negative\", \"neutral\"])\n",
    "sizes = list([positive_textblob, negative_textblob, neutral_textblob])\n",
    "\n",
    "fig, ax = plt.subplots()\n",
    "wedges, texts, autotexts = ax.pie(sizes, labels=labels, autopct='%1.1f%%', startangle=90, colors=['lightgreen', 'lightcoral', 'lightskyblue'], wedgeprops={'width': 0.4})\n",
    "ax.axis('equal')  # Equal aspect ratio ensures that pie is drawn as a circle.\n",
    "\n",
    "# Add a circle at the center to transform the pie chart into a donut chart\n",
    "centre_circle = plt.Circle((0,0),0.70,fc='white')\n",
    "fig.gca().add_artist(centre_circle)\n",
    "\n",
    "ax.set_title('TextBlob Sentiment Analysis')\n",
    "\n",
    "plt.show()\n"
   ]
  },
  {
   "cell_type": "markdown",
   "source": [
    "### Print NaveBayes Donut Graph"
   ],
   "metadata": {
    "collapsed": false
   },
   "id": "d72b516a4ea458c4"
  },
  {
   "cell_type": "code",
   "execution_count": null,
   "id": "809ee6088581707c",
   "metadata": {},
   "outputs": [],
   "source": [
    "# Plot donut chart for NaiveBayes sentiment analysis\n",
    "labels = list([\"positive\", \"negative\", \"neutral\"])\n",
    "sizes = list([positive_naive_bayes, negative_naive_bayes, neutral_naive_bayes])\n",
    "\n",
    "fig, ax = plt.subplots()\n",
    "wedges, texts, autotexts = ax.pie(sizes, labels=labels, autopct='%1.1f%%', startangle=90, colors=['lightgreen', 'lightcoral', 'lightskyblue'], wedgeprops={'width': 0.4})\n",
    "ax.axis('equal')  # Equal aspect ratio ensures that pie is drawn as a circle.\n",
    "\n",
    "# Add a circle at the center to transform the pie chart into a donut chart\n",
    "centre_circle = plt.Circle((0,0),0.70,fc='white')\n",
    "fig.gca().add_artist(centre_circle)\n",
    "\n",
    "ax.set_title('NaiveBayes Sentiment Analysis')\n",
    "\n",
    "plt.show()\n"
   ]
  },
  {
   "cell_type": "markdown",
   "source": [
    "## Looking at the analysis of the graphs, Michigan overall has a really good presence of great tasting chicken sandwiches and people generally have a positive opinion on them. TextBlob had neutral sentiments while NaiveBayes didn't Naive Bayes also had more negative opinions than TextBlob"
   ],
   "metadata": {
    "collapsed": false
   },
   "id": "3713929005893655"
  },
  {
   "cell_type": "markdown",
   "source": [
    "### Word Cloud of the top 20 words"
   ],
   "metadata": {
    "collapsed": false
   },
   "id": "30bac393b279d12b"
  },
  {
   "cell_type": "code",
   "execution_count": null,
   "outputs": [],
   "source": [
    "def generate_wordcloud(review_texts):\n",
    "    words = ' '.join(review_texts)\n",
    "    wordFreq = Counter(words.split())\n",
    "    wordsc = WordCloud(width=800, height=400, background_color='white', colormap='prism', max_words=20)\n",
    "    wordsc.generate_from_frequencies(wordFreq)\n",
    "\n",
    "    plt.figure(figsize=(10, 5))\n",
    "    plt.imshow(wordsc, interpolation='bilinear')\n",
    "    plt.axis('off')\n",
    "    plt.show()\n",
    "\n",
    "# Generate the word cloud\n",
    "print(wordsc)\n",
    "generate_wordcloud(wordsc)"
   ],
   "metadata": {
    "collapsed": false
   },
   "id": "4b0a80b48b60b683"
  },
  {
   "cell_type": "code",
   "execution_count": null,
   "outputs": [],
   "source": [],
   "metadata": {
    "collapsed": false
   },
   "id": "e896334fe8d0b39d"
  },
  {
   "cell_type": "code",
   "execution_count": null,
   "outputs": [],
   "source": [],
   "metadata": {
    "collapsed": false
   },
   "id": "ddfd2b47d1b9c0a6"
  }
 ],
 "metadata": {
  "kernelspec": {
   "display_name": "Python 3 (ipykernel)",
   "language": "python",
   "name": "python3"
  },
  "language_info": {
   "codemirror_mode": {
    "name": "ipython",
    "version": 3
   },
   "file_extension": ".py",
   "mimetype": "text/x-python",
   "name": "python",
   "nbconvert_exporter": "python",
   "pygments_lexer": "ipython3",
   "version": "3.11.5"
  }
 },
 "nbformat": 4,
 "nbformat_minor": 5
}
